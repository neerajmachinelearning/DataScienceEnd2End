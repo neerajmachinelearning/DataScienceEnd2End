{
 "cells": [
  {
   "cell_type": "code",
   "execution_count": 4,
   "metadata": {},
   "outputs": [],
   "source": [
    "get_raw_data_script_file = os.path.join(os.path.pardir, 'src','data','get_raw_data.py')"
   ]
  },
  {
   "cell_type": "code",
   "execution_count": 5,
   "metadata": {},
   "outputs": [
    {
     "name": "stdout",
     "output_type": "stream",
     "text": [
      "Writing ../src/data/get_raw_data.py\n"
     ]
    },
    {
     "ename": "FileNotFoundError",
     "evalue": "[Errno 2] No such file or directory: '../src/data/get_raw_data.py'",
     "output_type": "error",
     "traceback": [
      "\u001b[0;31m---------------------------------------------------------------------------\u001b[0m",
      "\u001b[0;31mFileNotFoundError\u001b[0m                         Traceback (most recent call last)",
      "\u001b[0;32m<ipython-input-5-7bc1fc2b1b76>\u001b[0m in \u001b[0;36m<module>\u001b[0;34m\u001b[0m\n\u001b[0;32m----> 1\u001b[0;31m \u001b[0mget_ipython\u001b[0m\u001b[0;34m(\u001b[0m\u001b[0;34m)\u001b[0m\u001b[0;34m.\u001b[0m\u001b[0mrun_cell_magic\u001b[0m\u001b[0;34m(\u001b[0m\u001b[0;34m'writefile'\u001b[0m\u001b[0;34m,\u001b[0m \u001b[0;34m'$get_raw_data_script_file'\u001b[0m\u001b[0;34m,\u001b[0m \u001b[0;34m'#imports\\nfrom requests import session\\nimport os\\nfrom dotenv import load_dotenv, find_dotenv\\nimport logging\\n\\n#payload for login to kaggle\\n\\npayload = {\\n    \\'action\\': \\'login\\',\\n    \\'username\\': os.environ.get(\\'KAGGLE_USERNAME\\'),\\n    \\'password\\': os.environ.get(\\'KAGGLE_PASSWORD\\')\\n}\\n\\n#url for train file (get the link from Kaggle website)\\nurl = \\n\\ndef extract_data(url, file_path):\\n    #setup session\\n    with session() as c:\\n#     post request\\n    c.post(\\'https://www.kaggle.com/account/login?phase=emailSignIn&returnUrl=%2F\\', data=payload)\\n    with open(file_path, \\'w\\') as handle:\\n        response = c.get(url, stream=True)\\n        for block in response.iter_content(1024):\\n            handle.write(block)\\n\\n            \\ndef main(project_dir):\\n    logger=logging.getLogger(__name__)\\n    logger.info(\\'getting raw data\\')\\n    \\n    #urls\\n    train_url = \\'https://www.kaggle.com/c/titanic/download/train.csv\\'\\n    test_url = \"\\'https://www.kaggle.com/c/titanic/download/test.csv\\'\\n\\n    #file paths\\n    raw_data_path = os.path.join(project_dir, \\'data\\', \\'raw\\')\\n    train_data_path = os.path.join(raw_data_path, \\'data\\', \\'raw\\')\\n    test_data_path = os.path.join(raw_data_path, \\'data\\', \\'raw\\')\\n    \\n    #extract data\\n    extract_data(train_url, train_data_path)\\n    extract_data(test_url, test_data_path)\\n    logger.inf0(\\'downloaded raw training and test data\\')\\n    \\nif __name__ = \\'__main\\':\\n    #getting root directory\\n    project_dir = os.path.join(os.path.dirname(__file__), os.pardir, os.pardir)\\n    \\n    #setup logger\\n    log_fmt = \\'%(asctime)s - %(name)s - %(levelname)s - %(message)s\\'\\n    logging.basicConfig(level=logging.INFO, format=log_fmt)\\n    \\n    #find .env automatically by walking up directories until its found\\n    dotevn_path = find_dotevn()\\n    \\n    #loadup the entries as environment variables\\n    load_dotenv(dotenv_path)\\n    \\n    #call the main\\n    main(project_dir)\\n'\u001b[0m\u001b[0;34m)\u001b[0m\u001b[0;34m\u001b[0m\u001b[0;34m\u001b[0m\u001b[0m\n\u001b[0m",
      "\u001b[0;32m/Applications/anaconda3/lib/python3.7/site-packages/IPython/core/interactiveshell.py\u001b[0m in \u001b[0;36mrun_cell_magic\u001b[0;34m(self, magic_name, line, cell)\u001b[0m\n\u001b[1;32m   2357\u001b[0m             \u001b[0;32mwith\u001b[0m \u001b[0mself\u001b[0m\u001b[0;34m.\u001b[0m\u001b[0mbuiltin_trap\u001b[0m\u001b[0;34m:\u001b[0m\u001b[0;34m\u001b[0m\u001b[0;34m\u001b[0m\u001b[0m\n\u001b[1;32m   2358\u001b[0m                 \u001b[0margs\u001b[0m \u001b[0;34m=\u001b[0m \u001b[0;34m(\u001b[0m\u001b[0mmagic_arg_s\u001b[0m\u001b[0;34m,\u001b[0m \u001b[0mcell\u001b[0m\u001b[0;34m)\u001b[0m\u001b[0;34m\u001b[0m\u001b[0;34m\u001b[0m\u001b[0m\n\u001b[0;32m-> 2359\u001b[0;31m                 \u001b[0mresult\u001b[0m \u001b[0;34m=\u001b[0m \u001b[0mfn\u001b[0m\u001b[0;34m(\u001b[0m\u001b[0;34m*\u001b[0m\u001b[0margs\u001b[0m\u001b[0;34m,\u001b[0m \u001b[0;34m**\u001b[0m\u001b[0mkwargs\u001b[0m\u001b[0;34m)\u001b[0m\u001b[0;34m\u001b[0m\u001b[0;34m\u001b[0m\u001b[0m\n\u001b[0m\u001b[1;32m   2360\u001b[0m             \u001b[0;32mreturn\u001b[0m \u001b[0mresult\u001b[0m\u001b[0;34m\u001b[0m\u001b[0;34m\u001b[0m\u001b[0m\n\u001b[1;32m   2361\u001b[0m \u001b[0;34m\u001b[0m\u001b[0m\n",
      "\u001b[0;32m</Applications/anaconda3/lib/python3.7/site-packages/decorator.py:decorator-gen-105>\u001b[0m in \u001b[0;36mwritefile\u001b[0;34m(self, line, cell)\u001b[0m\n",
      "\u001b[0;32m/Applications/anaconda3/lib/python3.7/site-packages/IPython/core/magic.py\u001b[0m in \u001b[0;36m<lambda>\u001b[0;34m(f, *a, **k)\u001b[0m\n\u001b[1;32m    185\u001b[0m     \u001b[0;31m# but it's overkill for just that one bit of state.\u001b[0m\u001b[0;34m\u001b[0m\u001b[0;34m\u001b[0m\u001b[0;34m\u001b[0m\u001b[0m\n\u001b[1;32m    186\u001b[0m     \u001b[0;32mdef\u001b[0m \u001b[0mmagic_deco\u001b[0m\u001b[0;34m(\u001b[0m\u001b[0marg\u001b[0m\u001b[0;34m)\u001b[0m\u001b[0;34m:\u001b[0m\u001b[0;34m\u001b[0m\u001b[0;34m\u001b[0m\u001b[0m\n\u001b[0;32m--> 187\u001b[0;31m         \u001b[0mcall\u001b[0m \u001b[0;34m=\u001b[0m \u001b[0;32mlambda\u001b[0m \u001b[0mf\u001b[0m\u001b[0;34m,\u001b[0m \u001b[0;34m*\u001b[0m\u001b[0ma\u001b[0m\u001b[0;34m,\u001b[0m \u001b[0;34m**\u001b[0m\u001b[0mk\u001b[0m\u001b[0;34m:\u001b[0m \u001b[0mf\u001b[0m\u001b[0;34m(\u001b[0m\u001b[0;34m*\u001b[0m\u001b[0ma\u001b[0m\u001b[0;34m,\u001b[0m \u001b[0;34m**\u001b[0m\u001b[0mk\u001b[0m\u001b[0;34m)\u001b[0m\u001b[0;34m\u001b[0m\u001b[0;34m\u001b[0m\u001b[0m\n\u001b[0m\u001b[1;32m    188\u001b[0m \u001b[0;34m\u001b[0m\u001b[0m\n\u001b[1;32m    189\u001b[0m         \u001b[0;32mif\u001b[0m \u001b[0mcallable\u001b[0m\u001b[0;34m(\u001b[0m\u001b[0marg\u001b[0m\u001b[0;34m)\u001b[0m\u001b[0;34m:\u001b[0m\u001b[0;34m\u001b[0m\u001b[0;34m\u001b[0m\u001b[0m\n",
      "\u001b[0;32m/Applications/anaconda3/lib/python3.7/site-packages/IPython/core/magics/osm.py\u001b[0m in \u001b[0;36mwritefile\u001b[0;34m(self, line, cell)\u001b[0m\n\u001b[1;32m    840\u001b[0m \u001b[0;34m\u001b[0m\u001b[0m\n\u001b[1;32m    841\u001b[0m         \u001b[0mmode\u001b[0m \u001b[0;34m=\u001b[0m \u001b[0;34m'a'\u001b[0m \u001b[0;32mif\u001b[0m \u001b[0margs\u001b[0m\u001b[0;34m.\u001b[0m\u001b[0mappend\u001b[0m \u001b[0;32melse\u001b[0m \u001b[0;34m'w'\u001b[0m\u001b[0;34m\u001b[0m\u001b[0;34m\u001b[0m\u001b[0m\n\u001b[0;32m--> 842\u001b[0;31m         \u001b[0;32mwith\u001b[0m \u001b[0mio\u001b[0m\u001b[0;34m.\u001b[0m\u001b[0mopen\u001b[0m\u001b[0;34m(\u001b[0m\u001b[0mfilename\u001b[0m\u001b[0;34m,\u001b[0m \u001b[0mmode\u001b[0m\u001b[0;34m,\u001b[0m \u001b[0mencoding\u001b[0m\u001b[0;34m=\u001b[0m\u001b[0;34m'utf-8'\u001b[0m\u001b[0;34m)\u001b[0m \u001b[0;32mas\u001b[0m \u001b[0mf\u001b[0m\u001b[0;34m:\u001b[0m\u001b[0;34m\u001b[0m\u001b[0;34m\u001b[0m\u001b[0m\n\u001b[0m\u001b[1;32m    843\u001b[0m             \u001b[0mf\u001b[0m\u001b[0;34m.\u001b[0m\u001b[0mwrite\u001b[0m\u001b[0;34m(\u001b[0m\u001b[0mcell\u001b[0m\u001b[0;34m)\u001b[0m\u001b[0;34m\u001b[0m\u001b[0;34m\u001b[0m\u001b[0m\n",
      "\u001b[0;31mFileNotFoundError\u001b[0m: [Errno 2] No such file or directory: '../src/data/get_raw_data.py'"
     ]
    }
   ],
   "source": [
    "%%writefile $get_raw_data_script_file\n",
    "#imports\n",
    "from requests import session\n",
    "import os\n",
    "from dotenv import load_dotenv, find_dotenv\n",
    "import logging\n",
    "\n",
    "#payload for login to kaggle\n",
    "\n",
    "payload = {\n",
    "    'action': 'login',\n",
    "    'username': os.environ.get('KAGGLE_USERNAME'),\n",
    "    'password': os.environ.get('KAGGLE_PASSWORD')\n",
    "}\n",
    "\n",
    "#url for train file (get the link from Kaggle website)\n",
    "url = \n",
    "\n",
    "def extract_data(url, file_path):\n",
    "    #setup session\n",
    "    with session() as c:\n",
    "#     post request\n",
    "    c.post('https://www.kaggle.com/account/login?phase=emailSignIn&returnUrl=%2F', data=payload)\n",
    "    with open(file_path, 'w') as handle:\n",
    "        response = c.get(url, stream=True)\n",
    "        for block in response.iter_content(1024):\n",
    "            handle.write(block)\n",
    "\n",
    "            \n",
    "def main(project_dir):\n",
    "    logger=logging.getLogger(__name__)\n",
    "    logger.info('getting raw data')\n",
    "    \n",
    "    #urls\n",
    "    train_url = 'https://www.kaggle.com/c/titanic/download/train.csv'\n",
    "    test_url = \"'https://www.kaggle.com/c/titanic/download/test.csv'\n",
    "\n",
    "    #file paths\n",
    "    raw_data_path = os.path.join(project_dir, 'data', 'raw')\n",
    "    train_data_path = os.path.join(raw_data_path, 'data', 'raw')\n",
    "    test_data_path = os.path.join(raw_data_path, 'data', 'raw')\n",
    "    \n",
    "    #extract data\n",
    "    extract_data(train_url, train_data_path)\n",
    "    extract_data(test_url, test_data_path)\n",
    "    logger.inf0('downloaded raw training and test data')\n",
    "    \n",
    "if __name__ = '__main':\n",
    "    #getting root directory\n",
    "    project_dir = os.path.join(os.path.dirname(__file__), os.pardir, os.pardir)\n",
    "    \n",
    "    #setup logger\n",
    "    log_fmt = '%(asctime)s - %(name)s - %(levelname)s - %(message)s'\n",
    "    logging.basicConfig(level=logging.INFO, format=log_fmt)\n",
    "    \n",
    "    #find .env automatically by walking up directories until its found\n",
    "    dotevn_path = find_dotevn()\n",
    "    \n",
    "    #loadup the entries as environment variables\n",
    "    load_dotenv(dotenv_path)\n",
    "    \n",
    "    #call the main\n",
    "    main(project_dir)"
   ]
  },
  {
   "cell_type": "code",
   "execution_count": null,
   "metadata": {},
   "outputs": [],
   "source": [
    "payload"
   ]
  }
 ],
 "metadata": {
  "kernelspec": {
   "display_name": "Python 3",
   "language": "python",
   "name": "python3"
  },
  "language_info": {
   "codemirror_mode": {
    "name": "ipython",
    "version": 3
   },
   "file_extension": ".py",
   "mimetype": "text/x-python",
   "name": "python",
   "nbconvert_exporter": "python",
   "pygments_lexer": "ipython3",
   "version": "3.7.4"
  }
 },
 "nbformat": 4,
 "nbformat_minor": 2
}
