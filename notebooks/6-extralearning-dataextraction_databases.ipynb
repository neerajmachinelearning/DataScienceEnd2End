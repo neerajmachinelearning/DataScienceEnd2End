{
 "cells": [
  {
   "cell_type": "markdown",
   "metadata": {},
   "source": [
    "## Data Extraction \n",
    "**learn the data extraction from following datasources**\n",
    "1. Database\n",
    "2. API\n",
    "3. Web Scraping\n",
    "\n",
    "**Tools**\n",
    "1. Requests\n",
    "2. BeautifulSoup\n",
    "3. Database interaction using sqlite3,PyMySQL, pymssql\n",
    "\n"
   ]
  },
  {
   "cell_type": "markdown",
   "metadata": {},
   "source": [
    "### Etracting data from database\n",
    "1. SQLite  2. MySQL  3. SQL Server\n",
    "\n",
    "**Steps to connect to database**\n",
    "1. Import the package\n",
    "    import package_name\n",
    "\n",
    "2. Connect to the database\n",
    "   --- connection = package_name.connect(con_str)\n",
    " \n",
    "3. Create the cursor\n",
    "   --- package_name.cursor()\n",
    "    \n",
    "4. Execute query\n",
    "   --- cursor.execute(query)\n",
    "\n",
    "5. Fetch results\n",
    "   --- cursor.fethall()\n",
    "\n",
    "6. close the connection \n",
    "   --- connection.close()\n",
    "   \n",
    "## SQLite Database\n",
    "\n",
    "#### import package\n"
   ]
  },
  {
   "cell_type": "code",
   "execution_count": 1,
   "metadata": {},
   "outputs": [],
   "source": [
    "#import sqlite3 package\n",
    "import sqlite3"
   ]
  },
  {
   "cell_type": "markdown",
   "metadata": {},
   "source": [
    "#### connect to database"
   ]
  },
  {
   "cell_type": "code",
   "execution_count": 2,
   "metadata": {},
   "outputs": [],
   "source": [
    "connection = sqlite3.connect(\"classroomDB.db\")\n",
    "connection.close()"
   ]
  },
  {
   "cell_type": "markdown",
   "metadata": {},
   "source": [
    "#### Create table"
   ]
  },
  {
   "cell_type": "code",
   "execution_count": 3,
   "metadata": {},
   "outputs": [],
   "source": [
    "# open connection\n",
    "connection = sqlite3.connect(\"classroomDB.db\")\n",
    "\n",
    "#open cursor\n",
    "cursor = connection.cursor()\n",
    "\n",
    "#query for creating table\n",
    "create_table = \"\"\"\n",
    "                CREATE TABLE classroom (\n",
    "                student_id INTEGER PRIMARY KEY, \n",
    "                name VARCHAR(20),\n",
    "                gender CHAR(1),\n",
    "                physics_marks INTEGER,\n",
    "                chemestry_marks INTEGER,\n",
    "                mathematics_marks INTEGER\n",
    "                );\"\"\"\n",
    "#execute query\n",
    "cursor.execute(create_table)\n",
    "\n",
    "#commit changes\n",
    "connection.commit()\n",
    "\n",
    "#close connections\n",
    "connection.close()"
   ]
  },
  {
   "cell_type": "markdown",
   "metadata": {},
   "source": [
    "#### Insert data"
   ]
  },
  {
   "cell_type": "code",
   "execution_count": 4,
   "metadata": {},
   "outputs": [],
   "source": [
    "#sampel data\n",
    "classroom_data = [(1, \"Raj\", \"M\", 70, 84, 92),\n",
    "                  (2, \"Poonam\", \"F\", 87, 69, 93),\n",
    "                  (3, \"Nik\", \"M\", 65, 83, 90),\n",
    "                  (4, \"Rajul\", \"F\", 83, 76, 89 )]\n",
    "\n",
    "#Open Connection \n",
    "connection = sqlite3.connect(\"classroomDB.db\")\n",
    "\n",
    "#Open Cursor\n",
    "cursor = connection.cursor()\n",
    "\n",
    "#insert each student record\n",
    "for student in classroom_data:\n",
    "    # formatted query string\n",
    "    insert_statement = \"\"\"INSERT INTO classroom\n",
    "                        (student_id, name, gender, physics_marks, chemestry_marks, mathematics_marks)\n",
    "                        VALUES\n",
    "                        ({0}, \"{1}\", \"{2}\", {3}, {4}, {5});\"\"\".format(student[0], student[1], student[2], \n",
    "                                                                      student[3], student[4], student[5])\n",
    "                        \n",
    "    # execute insert query\n",
    "    cursor.execute(insert_statement)\n",
    "\n",
    "#commit the changes\n",
    "connection.commit()\n",
    "\n",
    "#close the connection\n",
    "connection.close()\n"
   ]
  },
  {
   "cell_type": "markdown",
   "metadata": {},
   "source": [
    "#### Extract data"
   ]
  },
  {
   "cell_type": "code",
   "execution_count": 5,
   "metadata": {},
   "outputs": [
    {
     "name": "stdout",
     "output_type": "stream",
     "text": [
      "(1, 'Raj', 'M', 70, 84, 92)\n",
      "(2, 'Poonam', 'F', 87, 69, 93)\n",
      "(3, 'Nik', 'M', 65, 83, 90)\n",
      "(4, 'Rajul', 'F', 83, 76, 89)\n"
     ]
    }
   ],
   "source": [
    "#Open Connection \n",
    "connection = sqlite3.connect(\"classroomDB.db\")\n",
    "\n",
    "#Open Cursor\n",
    "cursor = connection.cursor()\n",
    "\n",
    "#query\n",
    "query = \"SELECT * FROM classroom\"\n",
    "\n",
    "#execute query\n",
    "cursor.execute(query)\n",
    "\n",
    "#fetch results\n",
    "result = cursor.fetchall()\n",
    "\n",
    "#print results\n",
    "for row in result:\n",
    "    print(row)\n",
    "\n",
    "#close connection\n",
    "connection.close()\n",
    "\n"
   ]
  },
  {
   "cell_type": "markdown",
   "metadata": {},
   "source": [
    "## MySQL database"
   ]
  },
  {
   "cell_type": "markdown",
   "metadata": {},
   "source": [
    "#### install package"
   ]
  },
  {
   "cell_type": "code",
   "execution_count": null,
   "metadata": {},
   "outputs": [],
   "source": [
    "# -y options is to accept the installation and -q option is to do installation without spitting out \n",
    "# to many intermidiate outputs"
   ]
  },
  {
   "cell_type": "code",
   "execution_count": 6,
   "metadata": {},
   "outputs": [
    {
     "name": "stdout",
     "output_type": "stream",
     "text": [
      "Collecting package metadata (current_repodata.json): ...working... done\n",
      "Solving environment: ...working... done\n",
      "\n",
      "## Package Plan ##\n",
      "\n",
      "  environment location: /Applications/anaconda3\n",
      "\n",
      "  added / updated specs:\n",
      "    - pymysql\n",
      "\n",
      "\n",
      "The following packages will be downloaded:\n",
      "\n",
      "    package                    |            build\n",
      "    ---------------------------|-----------------\n",
      "    pymysql-0.9.3              |           py37_0          83 KB\n",
      "    ------------------------------------------------------------\n",
      "                                           Total:          83 KB\n",
      "\n",
      "The following NEW packages will be INSTALLED:\n",
      "\n",
      "  pymysql            pkgs/main/osx-64::pymysql-0.9.3-py37_0\n",
      "\n",
      "\n",
      "Preparing transaction: ...working... done\n",
      "Verifying transaction: ...working... done\n",
      "Executing transaction: ...working... done\n"
     ]
    }
   ],
   "source": [
    "!conda install -y -q pymysql"
   ]
  },
  {
   "cell_type": "code",
   "execution_count": 15,
   "metadata": {},
   "outputs": [],
   "source": [
    "import pymysql"
   ]
  },
  {
   "cell_type": "markdown",
   "metadata": {},
   "source": [
    "#### Connect to the database"
   ]
  },
  {
   "cell_type": "code",
   "execution_count": 19,
   "metadata": {},
   "outputs": [
    {
     "data": {
      "text/plain": [
       "<function Connection.close>"
      ]
     },
     "execution_count": 19,
     "metadata": {},
     "output_type": "execute_result"
    }
   ],
   "source": [
    "# connection details\n",
    "\n",
    "cnx = {'host': 'mysqldb.cxxnqpdohl07.us-east-2.rds.amazonaws.com',\n",
    "        'username': 'admin',\n",
    "        'password': 'vinnpv1980',\n",
    "        'db': 'myclassroomDB'}\n",
    "\n",
    "\n",
    "#connect to the database\n",
    "Connection = pymysql.connect(cnx['host'], cnx['username'], cnx['password'], cnx['db'])\n",
    "\n",
    "#close database\n",
    "connection.close\n"
   ]
  },
  {
   "cell_type": "markdown",
   "metadata": {},
   "source": [
    "#### Create table"
   ]
  },
  {
   "cell_type": "code",
   "execution_count": 20,
   "metadata": {},
   "outputs": [],
   "source": [
    "# open connection\n",
    "connection = pymysql.connect(cnx['host'], cnx['username'], cnx['password'], cnx['db'])\n",
    "\n",
    "#open cursor\n",
    "cursor = connection.cursor()\n",
    "\n",
    "#query for creating table\n",
    "create_table = \"\"\"\n",
    "                CREATE TABLE classroom (\n",
    "                student_id INTEGER PRIMARY KEY, \n",
    "                name VARCHAR(20),\n",
    "                gender CHAR(1),\n",
    "                physics_marks INTEGER,\n",
    "                chemestry_marks INTEGER,\n",
    "                mathematics_marks INTEGER\n",
    "                );\"\"\"\n",
    "#execute query\n",
    "cursor.execute(create_table)\n",
    "\n",
    "#commit changes\n",
    "connection.commit()\n",
    "\n",
    "#close connections\n",
    "connection.close()"
   ]
  },
  {
   "cell_type": "markdown",
   "metadata": {},
   "source": [
    "#### Insert data"
   ]
  },
  {
   "cell_type": "code",
   "execution_count": 21,
   "metadata": {},
   "outputs": [],
   "source": [
    "#sampel data\n",
    "classroom_data = [(1, \"Raj\", \"M\", 70, 84, 92),\n",
    "                  (2, \"Poonam\", \"F\", 87, 69, 93),\n",
    "                  (3, \"Nik\", \"M\", 65, 83, 90),\n",
    "                  (4, \"Rajul\", \"F\", 83, 76, 89 )]\n",
    "\n",
    "#Open Connection \n",
    "connection = pymysql.connect(cnx['host'], cnx['username'], cnx['password'], cnx['db'])\n",
    "\n",
    "#Open Cursor\n",
    "cursor = connection.cursor()\n",
    "\n",
    "#insert each student record\n",
    "for student in classroom_data:\n",
    "    # formatted query string\n",
    "    insert_statement = \"\"\"INSERT INTO classroom\n",
    "                        (student_id, name, gender, physics_marks, chemestry_marks, mathematics_marks)\n",
    "                        VALUES\n",
    "                        ({0}, \"{1}\", \"{2}\", {3}, {4}, {5});\"\"\".format(student[0], student[1], student[2], \n",
    "                                                                      student[3], student[4], student[5])\n",
    "                        \n",
    "    # execute insert query\n",
    "    cursor.execute(insert_statement)\n",
    "\n",
    "#commit the changes\n",
    "connection.commit()\n",
    "\n",
    "#close the connection\n",
    "connection.close()"
   ]
  },
  {
   "cell_type": "markdown",
   "metadata": {},
   "source": [
    "#### extract data"
   ]
  },
  {
   "cell_type": "code",
   "execution_count": 22,
   "metadata": {},
   "outputs": [
    {
     "name": "stdout",
     "output_type": "stream",
     "text": [
      "(1, 'Raj', 'M', 70, 84, 92)\n",
      "(2, 'Poonam', 'F', 87, 69, 93)\n",
      "(3, 'Nik', 'M', 65, 83, 90)\n",
      "(4, 'Rajul', 'F', 83, 76, 89)\n"
     ]
    }
   ],
   "source": [
    "#Open Connection \n",
    "connection = pymysql.connect(cnx['host'], cnx['username'], cnx['password'], cnx['db'])\n",
    "\n",
    "#Open Cursor\n",
    "cursor = connection.cursor()\n",
    "\n",
    "#query\n",
    "query = \"SELECT * FROM classroom\"\n",
    "\n",
    "#execute query\n",
    "cursor.execute(query)\n",
    "\n",
    "#fetch results\n",
    "result = cursor.fetchall()\n",
    "\n",
    "#print results\n",
    "for row in result:\n",
    "    print(row)\n",
    "\n",
    "#close connection\n",
    "connection.close()"
   ]
  },
  {
   "cell_type": "markdown",
   "metadata": {},
   "source": [
    "## SQL Server - Microsoft"
   ]
  },
  {
   "cell_type": "markdown",
   "metadata": {},
   "source": [
    "#### Install Package"
   ]
  },
  {
   "cell_type": "code",
   "execution_count": 2,
   "metadata": {
    "scrolled": true
   },
   "outputs": [
    {
     "name": "stdout",
     "output_type": "stream",
     "text": [
      "Collecting package metadata (current_repodata.json): ...working... done\n",
      "Solving environment: ...working... done\n",
      "\n",
      "## Package Plan ##\n",
      "\n",
      "  environment location: /Applications/anaconda3\n",
      "\n",
      "  added / updated specs:\n",
      "    - pymssql\n",
      "\n",
      "\n",
      "The following packages will be downloaded:\n",
      "\n",
      "    package                    |            build\n",
      "    ---------------------------|-----------------\n",
      "    freetds-1.00.97            |       ha12b0ac_0         1.3 MB\n",
      "    pymssql-2.1.4              |   py37h1de35cc_0         194 KB\n",
      "    ------------------------------------------------------------\n",
      "                                           Total:         1.5 MB\n",
      "\n",
      "The following NEW packages will be INSTALLED:\n",
      "\n",
      "  freetds            pkgs/main/osx-64::freetds-1.00.97-ha12b0ac_0\n",
      "  pymssql            pkgs/main/osx-64::pymssql-2.1.4-py37h1de35cc_0\n",
      "\n",
      "\n",
      "Preparing transaction: ...working... done\n",
      "Verifying transaction: ...working... done\n",
      "Executing transaction: ...working... done\n"
     ]
    }
   ],
   "source": [
    "!conda install -y -q pymssql"
   ]
  },
  {
   "cell_type": "code",
   "execution_count": 3,
   "metadata": {},
   "outputs": [
    {
     "name": "stderr",
     "output_type": "stream",
     "text": [
      "/Applications/anaconda3/lib/python3.7/site-packages/ipykernel_launcher.py:1: DeprecationWarning: Using or importing the ABCs from 'collections' instead of from 'collections.abc' is deprecated, and in 3.8 it will stop working\n",
      "  \"\"\"Entry point for launching an IPython kernel.\n"
     ]
    }
   ],
   "source": [
    "import pymssql"
   ]
  },
  {
   "cell_type": "markdown",
   "metadata": {},
   "source": [
    "#### Create Connection"
   ]
  },
  {
   "cell_type": "code",
   "execution_count": 6,
   "metadata": {},
   "outputs": [
    {
     "data": {
      "text/plain": [
       "<function Connection.close>"
      ]
     },
     "execution_count": 6,
     "metadata": {},
     "output_type": "execute_result"
    }
   ],
   "source": [
    "# connection details\n",
    "\n",
    "cnx = {'host': 'sqlserverdbinstance.cxxnqpdohl07.us-east-2.rds.amazonaws.com:1433',\n",
    "        'username': 'admin',\n",
    "        'password': 'vinnpv1980',\n",
    "        'db': 'tempdb'}\n",
    "\n",
    "\n",
    "#connect to the database\n",
    "conn = pymssql.connect(cnx['host'], cnx['username'], cnx['password'], cnx['db'])\n",
    "\n",
    "#close database\n",
    "conn.close\n",
    "\n"
   ]
  },
  {
   "cell_type": "markdown",
   "metadata": {},
   "source": [
    "#### Create table"
   ]
  },
  {
   "cell_type": "code",
   "execution_count": 10,
   "metadata": {},
   "outputs": [
    {
     "ename": "OperationalError",
     "evalue": "(2714, b\"There is already an object named 'classroom' in the database.DB-Lib error message 20018, severity 16:\\nGeneral SQL Server error: Check messages from the SQL Server\\n\")",
     "output_type": "error",
     "traceback": [
      "\u001b[0;31m---------------------------------------------------------------------------\u001b[0m",
      "\u001b[0;31mMSSQLDatabaseException\u001b[0m                    Traceback (most recent call last)",
      "\u001b[0;32msrc/pymssql.pyx\u001b[0m in \u001b[0;36mpymssql.Cursor.execute\u001b[0;34m()\u001b[0m\n",
      "\u001b[0;32msrc/_mssql.pyx\u001b[0m in \u001b[0;36m_mssql.MSSQLConnection.execute_query\u001b[0;34m()\u001b[0m\n",
      "\u001b[0;32msrc/_mssql.pyx\u001b[0m in \u001b[0;36m_mssql.MSSQLConnection.execute_query\u001b[0;34m()\u001b[0m\n",
      "\u001b[0;32msrc/_mssql.pyx\u001b[0m in \u001b[0;36m_mssql.MSSQLConnection.format_and_run_query\u001b[0;34m()\u001b[0m\n",
      "\u001b[0;32msrc/_mssql.pyx\u001b[0m in \u001b[0;36m_mssql.check_cancel_and_raise\u001b[0;34m()\u001b[0m\n",
      "\u001b[0;32msrc/_mssql.pyx\u001b[0m in \u001b[0;36m_mssql.maybe_raise_MSSQLDatabaseException\u001b[0;34m()\u001b[0m\n",
      "\u001b[0;31mMSSQLDatabaseException\u001b[0m: (2714, b\"There is already an object named 'classroom' in the database.DB-Lib error message 20018, severity 16:\\nGeneral SQL Server error: Check messages from the SQL Server\\n\")",
      "\nDuring handling of the above exception, another exception occurred:\n",
      "\u001b[0;31mOperationalError\u001b[0m                          Traceback (most recent call last)",
      "\u001b[0;32m<ipython-input-10-9ec9fab65b0f>\u001b[0m in \u001b[0;36m<module>\u001b[0;34m\u001b[0m\n\u001b[1;32m     16\u001b[0m                 );\"\"\"\n\u001b[1;32m     17\u001b[0m \u001b[0;31m#execute query\u001b[0m\u001b[0;34m\u001b[0m\u001b[0;34m\u001b[0m\u001b[0;34m\u001b[0m\u001b[0m\n\u001b[0;32m---> 18\u001b[0;31m \u001b[0mcursor\u001b[0m\u001b[0;34m.\u001b[0m\u001b[0mexecute\u001b[0m\u001b[0;34m(\u001b[0m\u001b[0mcreate_table\u001b[0m\u001b[0;34m)\u001b[0m\u001b[0;34m\u001b[0m\u001b[0;34m\u001b[0m\u001b[0m\n\u001b[0m\u001b[1;32m     19\u001b[0m \u001b[0;34m\u001b[0m\u001b[0m\n\u001b[1;32m     20\u001b[0m \u001b[0;31m#commit changes\u001b[0m\u001b[0;34m\u001b[0m\u001b[0;34m\u001b[0m\u001b[0;34m\u001b[0m\u001b[0m\n",
      "\u001b[0;32msrc/pymssql.pyx\u001b[0m in \u001b[0;36mpymssql.Cursor.execute\u001b[0;34m()\u001b[0m\n",
      "\u001b[0;31mOperationalError\u001b[0m: (2714, b\"There is already an object named 'classroom' in the database.DB-Lib error message 20018, severity 16:\\nGeneral SQL Server error: Check messages from the SQL Server\\n\")"
     ]
    }
   ],
   "source": [
    "# open connection\n",
    "connection = pymssql.connect(cnx['host'], cnx['username'], cnx['password'], cnx['db'])\n",
    "\n",
    "#open cursor\n",
    "cursor = connection.cursor()\n",
    "\n",
    "#query for creating table\n",
    "create_table = \"\"\"\n",
    "                CREATE TABLE classroom (\n",
    "                student_id INTEGER PRIMARY KEY, \n",
    "                name VARCHAR(20),\n",
    "                gender CHAR(1),\n",
    "                physics_marks INTEGER,\n",
    "                chemestry_marks INTEGER,\n",
    "                mathematics_marks INTEGER\n",
    "                );\"\"\"\n",
    "#execute query\n",
    "cursor.execute(create_table)\n",
    "\n",
    "#commit changes\n",
    "connection.commit()\n",
    "\n",
    "#close connections\n",
    "connection.close()"
   ]
  },
  {
   "cell_type": "markdown",
   "metadata": {},
   "source": [
    "#### Insert Rows"
   ]
  },
  {
   "cell_type": "code",
   "execution_count": 16,
   "metadata": {},
   "outputs": [],
   "source": [
    "#sampel data\n",
    "classroom_data = [(1, \"Raj\", \"M\", 70, 84, 92),\n",
    "                  (2, \"Poonam\", \"F\", 87, 69, 93),\n",
    "                  (3, \"Nik\", \"M\", 65, 83, 90),\n",
    "                  (4, \"Rajul\", \"F\", 83, 76, 89 )]\n",
    "\n",
    "#Open Connection \n",
    "connection = pymssql.connect(cnx['host'], cnx['username'], cnx['password'], cnx['db'])\n",
    "\n",
    "#Open Cursor\n",
    "cursor = connection.cursor()\n",
    "\n",
    "#insert each student record\n",
    "for student in classroom_data:\n",
    "    # formatted query string\n",
    "    insert_statement = \"\"\"INSERT INTO classroom\n",
    "                        (student_id, name, gender, physics_marks, chemestry_marks, mathematics_marks)\n",
    "                        VALUES\n",
    "                        ({0}, '{1}', '{2}', {3}, {4}, {5});\"\"\".format(student[0], student[1], student[2], \n",
    "                                                                      student[3], student[4], student[5])\n",
    "       \n",
    "    # execute insert query\n",
    "    cursor.execute(insert_statement)\n",
    "\n",
    "#commit the changes\n",
    "connection.commit()\n",
    "\n",
    "#close the connection\n",
    "connection.close()\n"
   ]
  },
  {
   "cell_type": "markdown",
   "metadata": {},
   "source": [
    "#### Extract data"
   ]
  },
  {
   "cell_type": "code",
   "execution_count": 17,
   "metadata": {},
   "outputs": [
    {
     "name": "stdout",
     "output_type": "stream",
     "text": [
      "(1, 'Raj', 'M', 70, 84, 92)\n",
      "(2, 'Poonam', 'F', 87, 69, 93)\n",
      "(3, 'Nik', 'M', 65, 83, 90)\n",
      "(4, 'Rajul', 'F', 83, 76, 89)\n"
     ]
    }
   ],
   "source": [
    "#Open Connection \n",
    "connection = pymssql.connect(cnx['host'], cnx['username'], cnx['password'], cnx['db'])\n",
    "\n",
    "#Open Cursor\n",
    "cursor = connection.cursor()\n",
    "\n",
    "#query\n",
    "query = \"SELECT * FROM classroom\"\n",
    "\n",
    "#execute query\n",
    "cursor.execute(query)\n",
    "\n",
    "#fetch results\n",
    "result = cursor.fetchall()\n",
    "\n",
    "#print results\n",
    "for row in result:\n",
    "    print(row)\n",
    "\n",
    "#close connection\n",
    "connection.close()"
   ]
  }
 ],
 "metadata": {
  "kernelspec": {
   "display_name": "Python 3",
   "language": "python",
   "name": "python3"
  },
  "language_info": {
   "codemirror_mode": {
    "name": "ipython",
    "version": 3
   },
   "file_extension": ".py",
   "mimetype": "text/x-python",
   "name": "python",
   "nbconvert_exporter": "python",
   "pygments_lexer": "ipython3",
   "version": "3.7.4"
  }
 },
 "nbformat": 4,
 "nbformat_minor": 2
}
