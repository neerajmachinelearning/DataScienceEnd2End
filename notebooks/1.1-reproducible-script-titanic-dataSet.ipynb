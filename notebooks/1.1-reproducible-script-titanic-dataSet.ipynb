{
 "cells": [
  {
   "cell_type": "code",
   "execution_count": 2,
   "metadata": {},
   "outputs": [],
   "source": [
    "import os\n",
    "\n",
    "get_raw_data_script_file = os.path.join(os.path.pardir, 'src','data','get_raw_data.py')"
   ]
  },
  {
   "cell_type": "code",
   "execution_count": 4,
   "metadata": {},
   "outputs": [
    {
     "name": "stdout",
     "output_type": "stream",
     "text": [
      "Overwriting ../src/data/get_raw_data.py\n"
     ]
    }
   ],
   "source": [
    "%%writefile $get_raw_data_script_file\n",
    "#imports\n",
    "from requests import session\n",
    "import os\n",
    "from dotenv import load_dotenv, find_dotenv\n",
    "import logging\n",
    "\n",
    "#payload for login to kaggle\n",
    "\n",
    "payload = {\n",
    "    'action': 'login',\n",
    "    'username': os.environ.get('KAGGLE_USERNAME'),\n",
    "    'password': os.environ.get('KAGGLE_PASSWORD')\n",
    "}\n",
    "\n",
    "\n",
    "def extract_data(url, file_path):\n",
    "    #setup session\n",
    "    with session() as c:\n",
    "#     post request\n",
    "    c.post('https://www.kaggle.com/account/login?phase=emailSignIn&returnUrl=%2F', data=payload)\n",
    "    with open(file_path, 'w') as handle:\n",
    "        response = c.get(url, stream=True)\n",
    "        for block in response.iter_content(1024):\n",
    "            handle.write(block)\n",
    "\n",
    "            \n",
    "def main(project_dir):\n",
    "    logger=logging.getLogger(__name__)\n",
    "    logger.info('getting raw data')\n",
    "    \n",
    "    #urls\n",
    "    train_url = 'https://www.kaggle.com/c/titanic/download/train.csv'\n",
    "    test_url = \"'https://www.kaggle.com/c/titanic/download/test.csv'\n",
    "\n",
    "    #file paths\n",
    "    raw_data_path = os.path.join(project_dir, 'data', 'raw')\n",
    "    train_data_path = os.path.join(raw_data_path, 'data', 'raw')\n",
    "    test_data_path = os.path.join(raw_data_path, 'data', 'raw')\n",
    "    \n",
    "    #extract data\n",
    "    extract_data(train_url, train_data_path)\n",
    "    extract_data(test_url, test_data_path)\n",
    "    logger.inf0('downloaded raw training and test data')\n",
    "    \n",
    "if __name__ = '__main':\n",
    "    #getting root directory\n",
    "    project_dir = os.path.join(os.path.dirname(__file__), os.pardir, os.pardir)\n",
    "    \n",
    "    #setup logger\n",
    "    log_fmt = '%(asctime)s - %(name)s - %(levelname)s - %(message)s'\n",
    "    logging.basicConfig(level=logging.INFO, format=log_fmt)\n",
    "    \n",
    "    #find .env automatically by walking up directories until its found\n",
    "    dotevn_path = find_dotevn()\n",
    "    \n",
    "    #loadup the entries as environment variables\n",
    "    load_dotenv(dotenv_path)\n",
    "    \n",
    "    #call the main\n",
    "    main(project_dir)"
   ]
  },
  {
   "cell_type": "code",
   "execution_count": null,
   "metadata": {},
   "outputs": [],
   "source": []
  }
 ],
 "metadata": {
  "kernelspec": {
   "display_name": "Python 3",
   "language": "python",
   "name": "python3"
  },
  "language_info": {
   "codemirror_mode": {
    "name": "ipython",
    "version": 3
   },
   "file_extension": ".py",
   "mimetype": "text/x-python",
   "name": "python",
   "nbconvert_exporter": "python",
   "pygments_lexer": "ipython3",
   "version": "3.7.4"
  }
 },
 "nbformat": 4,
 "nbformat_minor": 2
}
